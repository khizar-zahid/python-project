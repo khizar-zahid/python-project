{
  "nbformat": 4,
  "nbformat_minor": 0,
  "metadata": {
    "colab": {
      "provenance": []
    },
    "kernelspec": {
      "name": "python3",
      "display_name": "Python 3"
    },
    "language_info": {
      "name": "python"
    }
  },
  "cells": [
    {
      "cell_type": "code",
      "execution_count": 1,
      "metadata": {
        "id": "U7nQ2sVFkqOq",
        "outputId": "2a42d72a-4f6a-4557-c0d4-2a5efc8fde20",
        "colab": {
          "base_uri": "https://localhost:8080/"
        }
      },
      "outputs": [
        {
          "output_type": "stream",
          "name": "stdout",
          "text": [
            "Enter a number: 7\n",
            "14 28 56 112 "
          ]
        }
      ],
      "source": [
        "user_input = int(input(\"Enter a number: \"))\n",
        "while user_input < 100:\n",
        "    user_input *= 2\n",
        "    print(user_input,end=\" \")"
      ]
    }
  ]
}