{
  "nbformat": 4,
  "nbformat_minor": 0,
  "metadata": {
    "colab": {
      "provenance": []
    },
    "kernelspec": {
      "name": "python3",
      "display_name": "Python 3"
    },
    "language_info": {
      "name": "python"
    }
  },
  "cells": [
    {
      "cell_type": "code",
      "execution_count": null,
      "metadata": {
        "id": "O2yjnPYXn2Cg"
      },
      "outputs": [],
      "source": [
        "for i in range(10,0,-1):\n",
        "    print(i,end=\" \")\n",
        "\n",
        "print(\"liftoff!\")"
      ]
    }
  ]
}