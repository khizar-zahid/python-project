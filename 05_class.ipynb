{
  "nbformat": 4,
  "nbformat_minor": 0,
  "metadata": {
    "colab": {
      "provenance": []
    },
    "kernelspec": {
      "name": "python3",
      "display_name": "Python 3"
    },
    "language_info": {
      "name": "python"
    }
  },
  "cells": [
    {
      "cell_type": "code",
      "execution_count": 1,
      "metadata": {
        "colab": {
          "base_uri": "https://localhost:8080/"
        },
        "id": "QNWqLUq3suT-",
        "outputId": "a8aaf908-91ee-44b0-e5dc-8005e3f00021"
      },
      "outputs": [
        {
          "output_type": "stream",
          "name": "stdout",
          "text": [
            "37 35 23 19 9 39 92 32 26 88 "
          ]
        }
      ],
      "source": [
        "Min_Number = 1\n",
        "Max_Number = 100\n",
        "N_Random_Numbers = 10\n",
        "import random\n",
        "for i in range(N_Random_Numbers):\n",
        "  print(random.randint(Min_Number,Max_Number),end=\" \")"
      ]
    }
  ]
}