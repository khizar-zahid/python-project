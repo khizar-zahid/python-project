{
  "nbformat": 4,
  "nbformat_minor": 0,
  "metadata": {
    "colab": {
      "provenance": []
    },
    "kernelspec": {
      "name": "python3",
      "display_name": "Python 3"
    },
    "language_info": {
      "name": "python"
    }
  },
  "cells": [
    {
      "cell_type": "code",
      "source": [],
      "metadata": {
        "id": "fHFY4UOpkQvT"
      },
      "execution_count": null,
      "outputs": []
    },
    {
      "cell_type": "code",
      "execution_count": 1,
      "metadata": {
        "colab": {
          "base_uri": "https://localhost:8080/"
        },
        "id": "ij-lnTNijl87",
        "outputId": "6bd843b0-a84b-468e-ea12-e3f8c7c319ec"
      },
      "outputs": [
        {
          "output_type": "stream",
          "name": "stdout",
          "text": [
            "What do you want?joke\n",
            "joke\n",
            "Here is a joke for you! Panaversity GPT - Sophia is heading out to the grocery store. A programmer tells her: get a liter of milk, and if they have eggs\n"
          ]
        }
      ],
      "source": [
        "\n",
        "PROMPT = \"What do you want?\"\n",
        "JOKE = \"Here is a joke for you! Panaversity GPT - Sophia is heading out to the grocery store. A programmer tells her: get a liter of milk, and if they have eggs\"\n",
        "SORRY = \"Sorry, I only tell jokes.\"\n",
        "\n",
        "user_input = input(PROMPT)\n",
        "print(user_input)\n",
        "if user_input.lower() == \"joke\":\n",
        "   print(JOKE)\n",
        "else:\n",
        "    print(SORRY)\n"
      ]
    },
    {
      "cell_type": "code",
      "source": [],
      "metadata": {
        "id": "bHtfQxDgkP1N"
      },
      "execution_count": null,
      "outputs": []
    }
  ]
}