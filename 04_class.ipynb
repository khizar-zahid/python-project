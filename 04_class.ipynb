{
  "nbformat": 4,
  "nbformat_minor": 0,
  "metadata": {
    "colab": {
      "provenance": []
    },
    "kernelspec": {
      "name": "python3",
      "display_name": "Python 3"
    },
    "language_info": {
      "name": "python"
    }
  },
  "cells": [
    {
      "cell_type": "code",
      "execution_count": 1,
      "metadata": {
        "colab": {
          "base_uri": "https://localhost:8080/"
        },
        "id": "Tn6KG2vuozll",
        "outputId": "6694b042-af0c-472a-dd7d-4b8fe7bd3206"
      },
      "outputs": [
        {
          "output_type": "stream",
          "name": "stdout",
          "text": [
            "attempts left 10 \n",
            "Enter a number: 10\n",
            "over game\n",
            "Your guess is too high\n",
            "attempts left 9 \n",
            "Enter a number: 10\n",
            "over game\n",
            "Your guess is too high\n",
            "attempts left 8 \n",
            "Enter a number: 9\n",
            "over game\n",
            "Congrats!The numbe was: 9\n"
          ]
        }
      ],
      "source": [
        "import random\n",
        "\n",
        "random_generated_num:int = random.randint(1,9)\n",
        "\n",
        "allow_attempts:int = 10\n",
        "\n",
        "user_attempt = 0\n",
        "\n",
        "while user_attempt < allow_attempts:\n",
        "  print(f\"attempts left {allow_attempts - user_attempt} \")\n",
        "  user_input = int(input(\"Enter a number: \"))\n",
        "  print(\"over game\")\n",
        "\n",
        "  user_attempt +=1\n",
        "  if user_input == random_generated_num:\n",
        "    print(\"Congrats!The numbe was:\",random_generated_num)\n",
        "    break\n",
        "  if user_input > random_generated_num:\n",
        "    print(\"Your guess is too high\")\n",
        "  elif user_input < random_generated_num:\n",
        "    print(\"Your guess is too low\")\n",
        "\n"
      ]
    }
  ]
}